{
 "cells": [
  {
   "cell_type": "code",
   "execution_count": null,
   "id": "e8ecf39c",
   "metadata": {},
   "outputs": [],
   "source": [
    "import numpy_financial as npf\n",
    "import pandas as pd\n",
    "import numpy as np\n",
    "import math\n",
    "import streamlit as st\n",
    "\n",
    "# Streamlit app title\n",
    "st.title('Amortization Calculator')\n",
    "\n",
    "# Input Variables using Streamlit widgets\n",
    "principal = st.number_input(\"Enter the Principal (e.g., 100000 for $100,000): \", min_value=0, value=100000)\n",
    "rate = st.number_input(\"Enter the Annual Interest Rate (e.g., 0.02 for 2%): \", min_value=0.0, value=0.04, step=0.01)\n",
    "years = st.number_input(\"Enter the Term in Number of Years (e.g., 30 for 30 years): \", min_value=0, value=30)\n",
    "\n",
    "# Calculate the number of months in the loan\n",
    "monthNo = years * 12\n",
    "\n",
    "# Calculate the fixed monthly payment\n",
    "fixedPayment = (principal * (rate / 12) * (math.pow(1 + rate / 12, monthNo))) / (math.pow(1 + rate / 12, monthNo) - 1)\n",
    "\n",
    "# Display the fixed payment amount\n",
    "st.write(f'Your Fixed Monthly Payment: ${fixedPayment:.2f}')\n",
    "\n",
    "# Initialize data storage for the amortization schedule\n",
    "amortization_schedule = []\n",
    "\n",
    "newPrincipal = principal\n",
    "unpaidPrincipalBalance = principal\n",
    "\n",
    "# Generate amortization table\n",
    "for i in range(1, monthNo + 1):\n",
    "    interestApplied = rate / 12 * newPrincipal\n",
    "    principalToPay = fixedPayment - interestApplied\n",
    "    unpaidPrincipalBalance = newPrincipal + interestApplied - fixedPayment\n",
    "    \n",
    "    # Append to amortization schedule\n",
    "    amortization_schedule.append([i, newPrincipal, interestApplied, principalToPay, fixedPayment, unpaidPrincipalBalance])\n",
    "    \n",
    "    # Update the new principal for the next month\n",
    "    newPrincipal = unpaidPrincipalBalance\n",
    "\n",
    "# Convert the amortization schedule to a DataFrame\n",
    "amortization_df = pd.DataFrame(amortization_schedule, columns=['Month Number', 'New Principal', 'Interest Applied', 'Principal Paydown', 'Fixed Payment', 'Unpaid Principal Balance'])\n",
    "\n",
    "# Display the amortization table\n",
    "st.subheader(\"Amortization Schedule\")\n",
    "st.dataframe(amortization_df)\n",
    "\n",
    "# Add download option for the amortization schedule as a CSV\n",
    "csv = amortization_df.to_csv(index=False)\n",
    "st.download_button(label=\"Download Amortization Schedule as CSV\", data=csv, file_name='amortization_schedule.csv', mime='text/csv')\n"
   ]
  }
 ],
 "metadata": {
  "kernelspec": {
   "display_name": "Python 3 (ipykernel)",
   "language": "python",
   "name": "python3"
  },
  "language_info": {
   "codemirror_mode": {
    "name": "ipython",
    "version": 3
   },
   "file_extension": ".py",
   "mimetype": "text/x-python",
   "name": "python",
   "nbconvert_exporter": "python",
   "pygments_lexer": "ipython3",
   "version": "3.9.19"
  }
 },
 "nbformat": 4,
 "nbformat_minor": 5
}
